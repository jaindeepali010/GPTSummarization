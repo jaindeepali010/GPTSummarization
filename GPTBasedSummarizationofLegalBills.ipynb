{
  "nbformat": 4,
  "nbformat_minor": 0,
  "metadata": {
    "colab": {
      "provenance": []
    },
    "kernelspec": {
      "name": "python3",
      "display_name": "Python 3"
    },
    "language_info": {
      "name": "python"
    }
  },
  "cells": [
    {
      "cell_type": "markdown",
      "source": [
        "# **GPT-based Summarization of Legal Bills**"
      ],
      "metadata": {
        "id": "XFX-dhiEJorJ"
      }
    },
    {
      "cell_type": "markdown",
      "source": [
        "In this Notebook, we explore the use of GPT-3 model acquired from Open AI summarization API (https://platform.openai.com/examples/default-tldr-summary/) which summarizes the text by adding a 'tl;dr:' prompt to the end of a text.\n",
        "\n",
        "For the purpose of experimentation a publicly available dataset is utilized\n",
        "\n",
        "BillSum dataset (https://github.com/FiscalNote/BillSum) which consists of 18,949 training document-summary pairs, 3,269 US test document-summary pairs. In addition to this, the dataset also contains 1,237 CA document-summary pairs."
      ],
      "metadata": {
        "id": "ks9qagYFJ8zL"
      }
    },
    {
      "cell_type": "code",
      "execution_count": null,
      "metadata": {
        "colab": {
          "base_uri": "https://localhost:8080/"
        },
        "id": "brNORbzEB_Uk",
        "outputId": "03a83bd5-8ffa-411b-8e8f-04214335a041"
      },
      "outputs": [
        {
          "output_type": "stream",
          "name": "stdout",
          "text": [
            "Mounted at /content/drive\n"
          ]
        }
      ],
      "source": [
        "from google.colab import drive\n",
        "drive.mount('/content/drive')"
      ]
    },
    {
      "cell_type": "code",
      "source": [
        "!pip install openai  #installing openai package"
      ],
      "metadata": {
        "colab": {
          "base_uri": "https://localhost:8080/"
        },
        "id": "E4XZysKmUH2j",
        "outputId": "fd141250-e514-4e87-94c3-0237e5603325"
      },
      "execution_count": null,
      "outputs": [
        {
          "output_type": "stream",
          "name": "stdout",
          "text": [
            "Looking in indexes: https://pypi.org/simple, https://us-python.pkg.dev/colab-wheels/public/simple/\n",
            "Requirement already satisfied: openai in /usr/local/lib/python3.8/dist-packages (0.26.5)\n",
            "Requirement already satisfied: tqdm in /usr/local/lib/python3.8/dist-packages (from openai) (4.64.1)\n",
            "Requirement already satisfied: requests>=2.20 in /usr/local/lib/python3.8/dist-packages (from openai) (2.25.1)\n",
            "Requirement already satisfied: aiohttp in /usr/local/lib/python3.8/dist-packages (from openai) (3.8.4)\n",
            "Requirement already satisfied: certifi>=2017.4.17 in /usr/local/lib/python3.8/dist-packages (from requests>=2.20->openai) (2022.12.7)\n",
            "Requirement already satisfied: urllib3<1.27,>=1.21.1 in /usr/local/lib/python3.8/dist-packages (from requests>=2.20->openai) (1.26.14)\n",
            "Requirement already satisfied: idna<3,>=2.5 in /usr/local/lib/python3.8/dist-packages (from requests>=2.20->openai) (2.10)\n",
            "Requirement already satisfied: chardet<5,>=3.0.2 in /usr/local/lib/python3.8/dist-packages (from requests>=2.20->openai) (4.0.0)\n",
            "Requirement already satisfied: attrs>=17.3.0 in /usr/local/lib/python3.8/dist-packages (from aiohttp->openai) (22.2.0)\n",
            "Requirement already satisfied: frozenlist>=1.1.1 in /usr/local/lib/python3.8/dist-packages (from aiohttp->openai) (1.3.3)\n",
            "Requirement already satisfied: multidict<7.0,>=4.5 in /usr/local/lib/python3.8/dist-packages (from aiohttp->openai) (6.0.4)\n",
            "Requirement already satisfied: aiosignal>=1.1.2 in /usr/local/lib/python3.8/dist-packages (from aiohttp->openai) (1.3.1)\n",
            "Requirement already satisfied: yarl<2.0,>=1.0 in /usr/local/lib/python3.8/dist-packages (from aiohttp->openai) (1.8.2)\n",
            "Requirement already satisfied: async-timeout<5.0,>=4.0.0a3 in /usr/local/lib/python3.8/dist-packages (from aiohttp->openai) (4.0.2)\n",
            "Requirement already satisfied: charset-normalizer<4.0,>=2.0 in /usr/local/lib/python3.8/dist-packages (from aiohttp->openai) (3.0.1)\n"
          ]
        }
      ]
    },
    {
      "cell_type": "markdown",
      "source": [
        "**Getting the OPENAI_API_KEY**\n",
        "\n",
        "In order to make use of Open AI API, we need to create a secret key (https://platform.openai.com/account/api-keys). The good practice is to store the key into some json file as done below."
      ],
      "metadata": {
        "id": "xzzgs3FXMguJ"
      }
    },
    {
      "cell_type": "code",
      "source": [
        "import json\n",
        "\n",
        "OPENAI_API_KEY = ''\n",
        "with open('/content/drive/My Drive/Colab Notebooks/GPTSumm/OpenAIKey.json', 'r') as file_to_read:\n",
        "    json_data = json.load(file_to_read)\n",
        "    OPENAI_API_KEY = json_data[\"OPENAI_API_KEY\"]"
      ],
      "metadata": {
        "id": "q9xtXJL1VPoE"
      },
      "execution_count": null,
      "outputs": []
    },
    {
      "cell_type": "code",
      "source": [
        "import os\n",
        "import openai\n",
        "\n",
        "openai.api_key =  OPENAI_API_KEY"
      ],
      "metadata": {
        "id": "lOK2LSJ4ZPrd"
      },
      "execution_count": null,
      "outputs": []
    },
    {
      "cell_type": "code",
      "source": [
        "USTestText =[] #Reading the documents and their corresponding summaries from google drive.\n",
        "f= open(\"/content/drive/My Drive/Colab Notebooks/us_bill_test/cleantext.txt\", \"r\")\n",
        "f2= f.readlines()\n",
        "for j in range(len(f2)):\n",
        "  USTestText.append(f2[j])\n",
        "\n",
        "USTestActualSummary =[]\n",
        "f= open(\"/content/drive/My Drive/Colab Notebooks/us_bill_test/cleansummary.txt\", \"r\")\n",
        "f2= f.readlines()\n",
        "for j in range(len(f2)):\n",
        "  USTestActualSummary.append(f2[j])"
      ],
      "metadata": {
        "id": "6D9vqBd1UrmL"
      },
      "execution_count": null,
      "outputs": []
    },
    {
      "cell_type": "markdown",
      "source": [
        "The below cell shows the summarization of US test bills (two documents). Since GPT-3 model is not freely available, therefore we do not perform fine-tuning. We simply do the inference using the free credits. For more details regarding the free credits, please visit Open AI website. (https://platform.openai.com/account/usage)"
      ],
      "metadata": {
        "id": "PNKW_8Q2NQ3q"
      }
    },
    {
      "cell_type": "code",
      "source": [
        "PredSumm=[]\n",
        "for i in range(2):\n",
        "  prompt= USTestText[i] + \"\\n Tl;dr:\" #append the prompt at the end of the text\n",
        "  response = openai.Completion.create(\n",
        "  model=\"text-davinci-003\",  #the model used for summarization\n",
        "  prompt=prompt,\n",
        "  temperature=0.7, \n",
        "  max_tokens=150,\n",
        "  top_p=0.9,\n",
        "  frequency_penalty=0.0,\n",
        "  presence_penalty=1\n",
        "  )\n",
        "  PredSumm.append(response[\"choices\"][0][\"text\"])\n"
      ],
      "metadata": {
        "id": "XWPntgw9avzu"
      },
      "execution_count": null,
      "outputs": []
    },
    {
      "cell_type": "code",
      "source": [
        "print(PredSumm[1])"
      ],
      "metadata": {
        "colab": {
          "base_uri": "https://localhost:8080/"
        },
        "id": "rkZ7LI2TcaOD",
        "outputId": "df064f2e-c6ca-4b46-c897-c2789b8cf2ef"
      },
      "execution_count": null,
      "outputs": [
        {
          "output_type": "stream",
          "name": "stdout",
          "text": [
            " This Act allows small businesses to receive a credit for retaining certain newly hired individuals before 2013. The credit is equal to the lesser of $4,000 or 6.2 percent of wages paid by the taxpayer to the retained worker during the 52 consecutive week period. There are limitations on the number of retained workers and the amount of the credit allowed. The credit may be carried forward for up to three taxable years.\n"
          ]
        }
      ]
    },
    {
      "cell_type": "markdown",
      "source": [
        "**This is the output summary of UStest document#1**\n",
        "\n",
        "This Act provides tax credits for businesses that make contributions to support science, technology, engineering, and mathematics (STEM) education at the elementary and secondary school level. The credits are given for contributions of STEM inventory property, STEM service contributions, STEM teacher externship expenses, and STEM teacher training expenses. The credits are applicable to taxable years beginning after the date of enactment of this Act.\n",
        "\n",
        "**This is the output summary of UStest document#2**\n",
        "\n",
        "This Act allows small businesses to receive a credit for retaining certain newly hired individuals before 2013. The credit is equal to the lesser of $4,000 or 6.2 percent of wages paid by the taxpayer to the retained worker during the 52 consecutive week period. There are limitations on the number of retained workers and the amount of the credit allowed. The credit may be carried forward for up to three taxable years.\n",
        "\n",
        "\n",
        "\n"
      ],
      "metadata": {
        "id": "-lDfGxahc0_2"
      }
    },
    {
      "cell_type": "code",
      "source": [
        "!pip install -U rouge"
      ],
      "metadata": {
        "colab": {
          "base_uri": "https://localhost:8080/"
        },
        "id": "VXYgGigVdgX0",
        "outputId": "f5ec75a1-69ec-4b45-de3a-67b7a9e9adec"
      },
      "execution_count": null,
      "outputs": [
        {
          "output_type": "stream",
          "name": "stdout",
          "text": [
            "Looking in indexes: https://pypi.org/simple, https://us-python.pkg.dev/colab-wheels/public/simple/\n",
            "Requirement already satisfied: rouge in /usr/local/lib/python3.8/dist-packages (1.0.1)\n",
            "Requirement already satisfied: six in /usr/local/lib/python3.8/dist-packages (from rouge) (1.15.0)\n"
          ]
        }
      ]
    },
    {
      "cell_type": "code",
      "source": [
        "from rouge import Rouge\n",
        "rouge =Rouge()\n",
        "print(rouge.get_scores(PredSumm, USTestActualSummary[:2], avg=True))"
      ],
      "metadata": {
        "colab": {
          "base_uri": "https://localhost:8080/"
        },
        "id": "SxErIAJGdy8e",
        "outputId": "138779eb-676a-4d3e-99f9-41113d2f9d89"
      },
      "execution_count": null,
      "outputs": [
        {
          "output_type": "stream",
          "name": "stdout",
          "text": [
            "{'rouge-1': {'r': 0.3191219512195122, 'p': 0.44699848024316113, 'f': 0.35308889542516103}, 'rouge-2': {'r': 0.12494885433715221, 'p': 0.2062206572769953, 'f': 0.14068937359166683}, 'rouge-l': {'r': 0.26253658536585367, 'p': 0.37044072948328266, 'f': 0.2913736769419868}}\n"
          ]
        }
      ]
    },
    {
      "cell_type": "markdown",
      "source": [
        "**Predicted Summary for US test document#1**\n",
        "\n",
        "{'rouge-1': {'r': 0.3902439024390244, 'p': 0.3404255319148936, 'f': 0.3636363586596075}, 'rouge-2': {'r': 0.14893617021276595, 'p': 0.11666666666666667, 'f': 0.13084111656913286}, 'rouge-l': {'r': 0.3170731707317073, 'p': 0.2765957446808511, 'f': 0.2954545404777893}}]\n",
        "\n",
        "**Predicted Summary for US test document#2**\n",
        "\n",
        "{'rouge-1': {'r': 0.248, 'p': 0.5535714285714286, 'f': 0.3425414321907146}, 'rouge-2': {'r': 0.10096153846153846, 'p': 0.29577464788732394, 'f': 0.15053763061420083}, 'rouge-l': {'r': 0.208, 'p': 0.4642857142857143, 'f': 0.28729281340618423}}]\n",
        "\n",
        "**Average ROUGE scores for the above generated summaries**\n",
        "\n",
        "{'rouge-1': {'r': 0.3191219512195122, 'p': 0.44699848024316113, 'f': 0.35308889542516103}, 'rouge-2': {'r': 0.12494885433715221, 'p': 0.2062206572769953, 'f': 0.14068937359166683}, 'rouge-l': {'r': 0.26253658536585367, 'p': 0.37044072948328266, 'f': 0.2913736769419868}}"
      ],
      "metadata": {
        "id": "4GCJyT02gpHF"
      }
    }
  ]
}