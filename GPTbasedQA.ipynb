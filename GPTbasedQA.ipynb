{
  "nbformat": 4,
  "nbformat_minor": 0,
  "metadata": {
    "colab": {
      "provenance": []
    },
    "kernelspec": {
      "name": "python3",
      "display_name": "Python 3"
    },
    "language_info": {
      "name": "python"
    }
  },
  "cells": [
    {
      "cell_type": "markdown",
      "source": [
        "# **Leveraging GPT-3 for Question-Answering**"
      ],
      "metadata": {
        "id": "SMyVVkT093bD"
      }
    },
    {
      "cell_type": "code",
      "source": [
        "from google.colab import drive\n",
        "drive.mount('/content/drive')"
      ],
      "metadata": {
        "colab": {
          "base_uri": "https://localhost:8080/"
        },
        "id": "aXeew27bamF6",
        "outputId": "2a6f7719-60e3-4b83-b84f-48075b636612"
      },
      "execution_count": 2,
      "outputs": [
        {
          "output_type": "stream",
          "name": "stdout",
          "text": [
            "Mounted at /content/drive\n"
          ]
        }
      ]
    },
    {
      "cell_type": "code",
      "source": [
        "!pip install openai  #installing openai package"
      ],
      "metadata": {
        "colab": {
          "base_uri": "https://localhost:8080/"
        },
        "id": "nmF9m66q0oYa",
        "outputId": "3e9d8c3d-2b14-453f-cfd5-7020bec6fcef"
      },
      "execution_count": 1,
      "outputs": [
        {
          "output_type": "stream",
          "name": "stdout",
          "text": [
            "Looking in indexes: https://pypi.org/simple, https://us-python.pkg.dev/colab-wheels/public/simple/\n",
            "Collecting openai\n",
            "  Downloading openai-0.27.0-py3-none-any.whl (70 kB)\n",
            "\u001b[2K     \u001b[90m━━━━━━━━━━━━━━━━━━━━━━━━━━━━━━━━━━━━━━━\u001b[0m \u001b[32m70.1/70.1 KB\u001b[0m \u001b[31m531.7 kB/s\u001b[0m eta \u001b[36m0:00:00\u001b[0m\n",
            "\u001b[?25hRequirement already satisfied: tqdm in /usr/local/lib/python3.8/dist-packages (from openai) (4.64.1)\n",
            "Requirement already satisfied: requests>=2.20 in /usr/local/lib/python3.8/dist-packages (from openai) (2.25.1)\n",
            "Requirement already satisfied: aiohttp in /usr/local/lib/python3.8/dist-packages (from openai) (3.8.4)\n",
            "Requirement already satisfied: idna<3,>=2.5 in /usr/local/lib/python3.8/dist-packages (from requests>=2.20->openai) (2.10)\n",
            "Requirement already satisfied: chardet<5,>=3.0.2 in /usr/local/lib/python3.8/dist-packages (from requests>=2.20->openai) (4.0.0)\n",
            "Requirement already satisfied: certifi>=2017.4.17 in /usr/local/lib/python3.8/dist-packages (from requests>=2.20->openai) (2022.12.7)\n",
            "Requirement already satisfied: urllib3<1.27,>=1.21.1 in /usr/local/lib/python3.8/dist-packages (from requests>=2.20->openai) (1.26.14)\n",
            "Requirement already satisfied: charset-normalizer<4.0,>=2.0 in /usr/local/lib/python3.8/dist-packages (from aiohttp->openai) (3.0.1)\n",
            "Requirement already satisfied: multidict<7.0,>=4.5 in /usr/local/lib/python3.8/dist-packages (from aiohttp->openai) (6.0.4)\n",
            "Requirement already satisfied: attrs>=17.3.0 in /usr/local/lib/python3.8/dist-packages (from aiohttp->openai) (22.2.0)\n",
            "Requirement already satisfied: yarl<2.0,>=1.0 in /usr/local/lib/python3.8/dist-packages (from aiohttp->openai) (1.8.2)\n",
            "Requirement already satisfied: async-timeout<5.0,>=4.0.0a3 in /usr/local/lib/python3.8/dist-packages (from aiohttp->openai) (4.0.2)\n",
            "Requirement already satisfied: frozenlist>=1.1.1 in /usr/local/lib/python3.8/dist-packages (from aiohttp->openai) (1.3.3)\n",
            "Requirement already satisfied: aiosignal>=1.1.2 in /usr/local/lib/python3.8/dist-packages (from aiohttp->openai) (1.3.1)\n",
            "Installing collected packages: openai\n",
            "Successfully installed openai-0.27.0\n"
          ]
        }
      ]
    },
    {
      "cell_type": "code",
      "source": [
        "import json\n",
        "\n",
        "OPENAI_API_KEY = ''\n",
        "with open('/content/drive/My Drive/Colab Notebooks/GPTSumm/OpenAIKey.json', 'r') as file_to_read:\n",
        "    json_data = json.load(file_to_read)\n",
        "    OPENAI_API_KEY = json_data[\"OPENAI_API_KEY\"]"
      ],
      "metadata": {
        "id": "bHyFOwZ30sZl"
      },
      "execution_count": 3,
      "outputs": []
    },
    {
      "cell_type": "code",
      "source": [
        "import os\n",
        "import openai\n",
        "\n",
        "openai.api_key =  OPENAI_API_KEY"
      ],
      "metadata": {
        "id": "6EaJsOJ502E4"
      },
      "execution_count": 4,
      "outputs": []
    },
    {
      "cell_type": "code",
      "source": [
        "query1=\"If you had a whole day where you could do anything you wanted, what would you do?\"\n",
        "query2= \"As a Ph.D. student, what tasks should I do?\"\n",
        "def greet(query):\n",
        "    \n",
        "    response = openai.Completion.create(\n",
        "    engine= \"text-davinci-003\",\n",
        "        prompt=query1,\n",
        "        temperature=0.1,\n",
        "        max_tokens=120,\n",
        "        top_p=1,\n",
        "        best_of=1,\n",
        "        frequency_penalty=0.47,\n",
        "        presence_penalty=0.31)\n",
        "    answer = response['choices'][0]['text']\n",
        "    return answer"
      ],
      "metadata": {
        "id": "KbyMjxvc0Fhg"
      },
      "execution_count": 12,
      "outputs": []
    },
    {
      "cell_type": "code",
      "source": [
        "ans=greet(query1)\n",
        "print(ans) "
      ],
      "metadata": {
        "colab": {
          "base_uri": "https://localhost:8080/"
        },
        "id": "THDuhZEi1Czn",
        "outputId": "de775338-f23c-46ca-96e9-791da4c21e53"
      },
      "execution_count": 13,
      "outputs": [
        {
          "output_type": "stream",
          "name": "stdout",
          "text": [
            "\n",
            "\n",
            "If I had a whole day to do anything I wanted, I would start by taking a long walk in nature and enjoying the beauty of the outdoors. After that, I would spend some time reading a book or two in a cozy cafe. In the afternoon, I would go for a bike ride and explore some new places. Later on, I would cook a delicious dinner with friends and enjoy some quality time together. To end the day, I would watch the sunset from my favorite spot and take some time to reflect on all the wonderful things that happened throughout the day.\n"
          ]
        }
      ]
    },
    {
      "cell_type": "markdown",
      "source": [
        "### ***Answer generated by \"text-davinci-002\" model***\n",
        "\n",
        "**The generated answer for query1**\n",
        "\n",
        "If I had a whole day where I could do anything I wanted, I would spend the day with my family. We would go out to breakfast, go for a hike, and then have a picnic lunch. Then we would go to the park and play games and fly kites. In the evening, we would have a barbecue dinner and then sit around the campfire and sing songs and tell stories.\n",
        "\n",
        "\n",
        "**Answer generated for query2**\n",
        "\n",
        "A Ph.D. student should be prepared to do a great deal of research and writing, as well as some teaching. They are not required to do any specific tasks, but should be prepared to work hard and contribute to their field of study.\n",
        "\n",
        "### ***Answer generated by \"text-davinci-003\" model***\n",
        "\n",
        "**The generated answer for query1 (max_tokens=100)**\n",
        "\n",
        "If I had a whole day to do anything I wanted, I would start by taking a long walk in nature and enjoying the beauty of the outdoors. After that, I would spend some time reading a book or two in a cozy cafe. In the afternoon, I would go for a bike ride around town and explore some new places. In the evening, I would cook a delicious dinner with friends and family and then watch a movie together. Finally, before bed, I would take some time\n",
        "\n",
        "**The generated answer for query1 when we increase the max_tokens to 120**\n",
        "\n",
        "If I had a whole day to do anything I wanted, I would start by taking a long walk in nature and enjoying the beauty of the outdoors. After that, I would spend some time reading a book or two in a cozy cafe. In the afternoon, I would go for a bike ride and explore some new places. Later on, I would cook a delicious dinner with friends and enjoy some quality time together. To end the day, I would watch the sunset from my favorite spot and take some time to reflect on all the wonderful things that happened throughout the day.\n",
        "\n",
        "**The generated answer for query2 (max_tokens=100)** \n",
        "\n",
        "1. Develop a research proposal and secure funding for your project.\n",
        "2. Conduct literature reviews to identify gaps in existing knowledge and develop research questions.\n",
        "3. Design and execute experiments or surveys to collect data for your research project.\n",
        "4. Analyze data and draw conclusions from the results of your experiments or surveys.\n",
        "5. Write up your findings in a dissertation or thesis, and present them at conferences or seminars.\n",
        "6. Publish papers in academic journals to share your\n",
        "\n",
        "**When we increase the number of max_tokens to 120** \n",
        "\n",
        "1. Develop a research proposal outlining your research topic, objectives, and methodology.\n",
        "2. Conduct literature reviews to identify relevant sources and build a foundation of knowledge in your field.\n",
        "3. Design experiments or data collection methods to test hypotheses or answer research questions.\n",
        "4. Analyze data and draw conclusions from the results of your experiments or data collection methods.\n",
        "5. Write up your findings in a dissertation or thesis for submission to your university or other academic institution.\n",
        "6. Present your research at conferences and seminars to share your findings with the academic community.\n",
        "7. Pub\n",
        "\n",
        "\n",
        "**Final remarks on the generated summary:**\n",
        "\n",
        "The davinci-003 model seems to be more intelligent as compared to davinci-002.\n"
      ],
      "metadata": {
        "id": "bzt7JAnp3UOR"
      }
    }
  ]
}