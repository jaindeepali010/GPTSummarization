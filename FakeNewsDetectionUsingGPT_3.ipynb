{
  "nbformat": 4,
  "nbformat_minor": 0,
  "metadata": {
    "colab": {
      "provenance": []
    },
    "kernelspec": {
      "name": "python3",
      "display_name": "Python 3"
    },
    "language_info": {
      "name": "python"
    }
  },
  "cells": [
    {
      "cell_type": "markdown",
      "source": [
        "# **Fake News Detection Using GPT-3**"
      ],
      "metadata": {
        "id": "mdxb7ryu3kmF"
      }
    },
    {
      "cell_type": "markdown",
      "source": [
        "This notebook classifies the tweet into fake or real. The dataset is acquired while participating in CONSTRAINT 2021 shared task. For more details about the dataset, please visit the below github link:\n",
        "https://github.com/parthpatwa/covid19-fake-news-detection"
      ],
      "metadata": {
        "id": "Y6vC3nw83yR_"
      }
    },
    {
      "cell_type": "code",
      "execution_count": 2,
      "metadata": {
        "colab": {
          "base_uri": "https://localhost:8080/"
        },
        "id": "xA4o96DQhcYk",
        "outputId": "8ca27a66-ba67-4de8-e50d-ad13184e2c1a"
      },
      "outputs": [
        {
          "output_type": "stream",
          "name": "stdout",
          "text": [
            "Mounted at /content/drive\n"
          ]
        }
      ],
      "source": [
        "from google.colab import drive\n",
        "drive.mount('/content/drive')"
      ]
    },
    {
      "cell_type": "code",
      "source": [
        "!pip install openai  #installing openai package"
      ],
      "metadata": {
        "colab": {
          "base_uri": "https://localhost:8080/"
        },
        "id": "JPfQtCIIiSnR",
        "outputId": "014bb14c-b26f-41a4-c647-f853e3a95c43"
      },
      "execution_count": 3,
      "outputs": [
        {
          "output_type": "stream",
          "name": "stdout",
          "text": [
            "Looking in indexes: https://pypi.org/simple, https://us-python.pkg.dev/colab-wheels/public/simple/\n",
            "Collecting openai\n",
            "  Downloading openai-0.27.0-py3-none-any.whl (70 kB)\n",
            "\u001b[2K     \u001b[90m━━━━━━━━━━━━━━━━━━━━━━━━━━━━━━━━━━━━━━━━\u001b[0m \u001b[32m70.1/70.1 KB\u001b[0m \u001b[31m2.8 MB/s\u001b[0m eta \u001b[36m0:00:00\u001b[0m\n",
            "\u001b[?25hRequirement already satisfied: requests>=2.20 in /usr/local/lib/python3.8/dist-packages (from openai) (2.25.1)\n",
            "Requirement already satisfied: aiohttp in /usr/local/lib/python3.8/dist-packages (from openai) (3.8.4)\n",
            "Requirement already satisfied: tqdm in /usr/local/lib/python3.8/dist-packages (from openai) (4.64.1)\n",
            "Requirement already satisfied: idna<3,>=2.5 in /usr/local/lib/python3.8/dist-packages (from requests>=2.20->openai) (2.10)\n",
            "Requirement already satisfied: chardet<5,>=3.0.2 in /usr/local/lib/python3.8/dist-packages (from requests>=2.20->openai) (4.0.0)\n",
            "Requirement already satisfied: urllib3<1.27,>=1.21.1 in /usr/local/lib/python3.8/dist-packages (from requests>=2.20->openai) (1.26.14)\n",
            "Requirement already satisfied: certifi>=2017.4.17 in /usr/local/lib/python3.8/dist-packages (from requests>=2.20->openai) (2022.12.7)\n",
            "Requirement already satisfied: multidict<7.0,>=4.5 in /usr/local/lib/python3.8/dist-packages (from aiohttp->openai) (6.0.4)\n",
            "Requirement already satisfied: async-timeout<5.0,>=4.0.0a3 in /usr/local/lib/python3.8/dist-packages (from aiohttp->openai) (4.0.2)\n",
            "Requirement already satisfied: charset-normalizer<4.0,>=2.0 in /usr/local/lib/python3.8/dist-packages (from aiohttp->openai) (3.0.1)\n",
            "Requirement already satisfied: frozenlist>=1.1.1 in /usr/local/lib/python3.8/dist-packages (from aiohttp->openai) (1.3.3)\n",
            "Requirement already satisfied: yarl<2.0,>=1.0 in /usr/local/lib/python3.8/dist-packages (from aiohttp->openai) (1.8.2)\n",
            "Requirement already satisfied: attrs>=17.3.0 in /usr/local/lib/python3.8/dist-packages (from aiohttp->openai) (22.2.0)\n",
            "Requirement already satisfied: aiosignal>=1.1.2 in /usr/local/lib/python3.8/dist-packages (from aiohttp->openai) (1.3.1)\n",
            "Installing collected packages: openai\n",
            "Successfully installed openai-0.27.0\n"
          ]
        }
      ]
    },
    {
      "cell_type": "code",
      "source": [
        "import json\n",
        "\n",
        "OPENAI_API_KEY = ''\n",
        "with open('/content/drive/My Drive/Colab Notebooks/GPTSumm/OpenAIKey.json', 'r') as file_to_read:\n",
        "    json_data = json.load(file_to_read)\n",
        "    OPENAI_API_KEY = json_data[\"OPENAI_API_KEY\"]"
      ],
      "metadata": {
        "id": "QfFFOLUkiSpV"
      },
      "execution_count": 4,
      "outputs": []
    },
    {
      "cell_type": "code",
      "source": [
        "import os\n",
        "import openai\n",
        "\n",
        "openai.api_key =  OPENAI_API_KEY"
      ],
      "metadata": {
        "id": "ga1qX7kMiSsL"
      },
      "execution_count": 5,
      "outputs": []
    },
    {
      "cell_type": "code",
      "source": [
        "#Since we are making the predictions, therefore, we use validation dataset.\n",
        "import numpy as np\n",
        "import pandas as pd\n",
        "\n",
        "data = pd.read_excel('/content/drive/My Drive/constraint/Constraint_English_Val.xlsx')"
      ],
      "metadata": {
        "id": "rDnsqYTGiaaG"
      },
      "execution_count": 6,
      "outputs": []
    },
    {
      "cell_type": "code",
      "source": [
        "data.head(10)"
      ],
      "metadata": {
        "colab": {
          "base_uri": "https://localhost:8080/",
          "height": 363
        },
        "id": "MsuEKoXqkUbT",
        "outputId": "d581db65-186f-44a5-a8c8-c77c336e2e72"
      },
      "execution_count": 7,
      "outputs": [
        {
          "output_type": "execute_result",
          "data": {
            "text/plain": [
              "     id                                              tweet label\n",
              "0   1.0  Chinese converting to Islam after realising th...  fake\n",
              "1   2.0  11 out of 13 people (from the Diamond Princess...  fake\n",
              "2   3.0  COVID-19 Is Caused By A Bacterium, Not Virus A...  fake\n",
              "3   4.0  Mike Pence in RNC speech praises Donald Trump’...  fake\n",
              "4   5.0  6/10 Sky's @EdConwaySky explains the latest #C...  real\n",
              "5   6.0  No one can leave managed isolation for any rea...  real\n",
              "6   7.0  #IndiaFightsCorona India has one of the lowest...  real\n",
              "7   8.0  RT @WHO: #COVID19 transmission occurs primaril...  real\n",
              "8   9.0  News and media outlet ABP Majha on the basis o...  fake\n",
              "9  10.0  ???Church services can???t resume until we???r...  fake"
            ],
            "text/html": [
              "\n",
              "  <div id=\"df-4504fb50-0d39-4551-9423-c7cfc3f4ec95\">\n",
              "    <div class=\"colab-df-container\">\n",
              "      <div>\n",
              "<style scoped>\n",
              "    .dataframe tbody tr th:only-of-type {\n",
              "        vertical-align: middle;\n",
              "    }\n",
              "\n",
              "    .dataframe tbody tr th {\n",
              "        vertical-align: top;\n",
              "    }\n",
              "\n",
              "    .dataframe thead th {\n",
              "        text-align: right;\n",
              "    }\n",
              "</style>\n",
              "<table border=\"1\" class=\"dataframe\">\n",
              "  <thead>\n",
              "    <tr style=\"text-align: right;\">\n",
              "      <th></th>\n",
              "      <th>id</th>\n",
              "      <th>tweet</th>\n",
              "      <th>label</th>\n",
              "    </tr>\n",
              "  </thead>\n",
              "  <tbody>\n",
              "    <tr>\n",
              "      <th>0</th>\n",
              "      <td>1.0</td>\n",
              "      <td>Chinese converting to Islam after realising th...</td>\n",
              "      <td>fake</td>\n",
              "    </tr>\n",
              "    <tr>\n",
              "      <th>1</th>\n",
              "      <td>2.0</td>\n",
              "      <td>11 out of 13 people (from the Diamond Princess...</td>\n",
              "      <td>fake</td>\n",
              "    </tr>\n",
              "    <tr>\n",
              "      <th>2</th>\n",
              "      <td>3.0</td>\n",
              "      <td>COVID-19 Is Caused By A Bacterium, Not Virus A...</td>\n",
              "      <td>fake</td>\n",
              "    </tr>\n",
              "    <tr>\n",
              "      <th>3</th>\n",
              "      <td>4.0</td>\n",
              "      <td>Mike Pence in RNC speech praises Donald Trump’...</td>\n",
              "      <td>fake</td>\n",
              "    </tr>\n",
              "    <tr>\n",
              "      <th>4</th>\n",
              "      <td>5.0</td>\n",
              "      <td>6/10 Sky's @EdConwaySky explains the latest #C...</td>\n",
              "      <td>real</td>\n",
              "    </tr>\n",
              "    <tr>\n",
              "      <th>5</th>\n",
              "      <td>6.0</td>\n",
              "      <td>No one can leave managed isolation for any rea...</td>\n",
              "      <td>real</td>\n",
              "    </tr>\n",
              "    <tr>\n",
              "      <th>6</th>\n",
              "      <td>7.0</td>\n",
              "      <td>#IndiaFightsCorona India has one of the lowest...</td>\n",
              "      <td>real</td>\n",
              "    </tr>\n",
              "    <tr>\n",
              "      <th>7</th>\n",
              "      <td>8.0</td>\n",
              "      <td>RT @WHO: #COVID19 transmission occurs primaril...</td>\n",
              "      <td>real</td>\n",
              "    </tr>\n",
              "    <tr>\n",
              "      <th>8</th>\n",
              "      <td>9.0</td>\n",
              "      <td>News and media outlet ABP Majha on the basis o...</td>\n",
              "      <td>fake</td>\n",
              "    </tr>\n",
              "    <tr>\n",
              "      <th>9</th>\n",
              "      <td>10.0</td>\n",
              "      <td>???Church services can???t resume until we???r...</td>\n",
              "      <td>fake</td>\n",
              "    </tr>\n",
              "  </tbody>\n",
              "</table>\n",
              "</div>\n",
              "      <button class=\"colab-df-convert\" onclick=\"convertToInteractive('df-4504fb50-0d39-4551-9423-c7cfc3f4ec95')\"\n",
              "              title=\"Convert this dataframe to an interactive table.\"\n",
              "              style=\"display:none;\">\n",
              "        \n",
              "  <svg xmlns=\"http://www.w3.org/2000/svg\" height=\"24px\"viewBox=\"0 0 24 24\"\n",
              "       width=\"24px\">\n",
              "    <path d=\"M0 0h24v24H0V0z\" fill=\"none\"/>\n",
              "    <path d=\"M18.56 5.44l.94 2.06.94-2.06 2.06-.94-2.06-.94-.94-2.06-.94 2.06-2.06.94zm-11 1L8.5 8.5l.94-2.06 2.06-.94-2.06-.94L8.5 2.5l-.94 2.06-2.06.94zm10 10l.94 2.06.94-2.06 2.06-.94-2.06-.94-.94-2.06-.94 2.06-2.06.94z\"/><path d=\"M17.41 7.96l-1.37-1.37c-.4-.4-.92-.59-1.43-.59-.52 0-1.04.2-1.43.59L10.3 9.45l-7.72 7.72c-.78.78-.78 2.05 0 2.83L4 21.41c.39.39.9.59 1.41.59.51 0 1.02-.2 1.41-.59l7.78-7.78 2.81-2.81c.8-.78.8-2.07 0-2.86zM5.41 20L4 18.59l7.72-7.72 1.47 1.35L5.41 20z\"/>\n",
              "  </svg>\n",
              "      </button>\n",
              "      \n",
              "  <style>\n",
              "    .colab-df-container {\n",
              "      display:flex;\n",
              "      flex-wrap:wrap;\n",
              "      gap: 12px;\n",
              "    }\n",
              "\n",
              "    .colab-df-convert {\n",
              "      background-color: #E8F0FE;\n",
              "      border: none;\n",
              "      border-radius: 50%;\n",
              "      cursor: pointer;\n",
              "      display: none;\n",
              "      fill: #1967D2;\n",
              "      height: 32px;\n",
              "      padding: 0 0 0 0;\n",
              "      width: 32px;\n",
              "    }\n",
              "\n",
              "    .colab-df-convert:hover {\n",
              "      background-color: #E2EBFA;\n",
              "      box-shadow: 0px 1px 2px rgba(60, 64, 67, 0.3), 0px 1px 3px 1px rgba(60, 64, 67, 0.15);\n",
              "      fill: #174EA6;\n",
              "    }\n",
              "\n",
              "    [theme=dark] .colab-df-convert {\n",
              "      background-color: #3B4455;\n",
              "      fill: #D2E3FC;\n",
              "    }\n",
              "\n",
              "    [theme=dark] .colab-df-convert:hover {\n",
              "      background-color: #434B5C;\n",
              "      box-shadow: 0px 1px 3px 1px rgba(0, 0, 0, 0.15);\n",
              "      filter: drop-shadow(0px 1px 2px rgba(0, 0, 0, 0.3));\n",
              "      fill: #FFFFFF;\n",
              "    }\n",
              "  </style>\n",
              "\n",
              "      <script>\n",
              "        const buttonEl =\n",
              "          document.querySelector('#df-4504fb50-0d39-4551-9423-c7cfc3f4ec95 button.colab-df-convert');\n",
              "        buttonEl.style.display =\n",
              "          google.colab.kernel.accessAllowed ? 'block' : 'none';\n",
              "\n",
              "        async function convertToInteractive(key) {\n",
              "          const element = document.querySelector('#df-4504fb50-0d39-4551-9423-c7cfc3f4ec95');\n",
              "          const dataTable =\n",
              "            await google.colab.kernel.invokeFunction('convertToInteractive',\n",
              "                                                     [key], {});\n",
              "          if (!dataTable) return;\n",
              "\n",
              "          const docLinkHtml = 'Like what you see? Visit the ' +\n",
              "            '<a target=\"_blank\" href=https://colab.research.google.com/notebooks/data_table.ipynb>data table notebook</a>'\n",
              "            + ' to learn more about interactive tables.';\n",
              "          element.innerHTML = '';\n",
              "          dataTable['output_type'] = 'display_data';\n",
              "          await google.colab.output.renderOutput(dataTable, element);\n",
              "          const docLink = document.createElement('div');\n",
              "          docLink.innerHTML = docLinkHtml;\n",
              "          element.appendChild(docLink);\n",
              "        }\n",
              "      </script>\n",
              "    </div>\n",
              "  </div>\n",
              "  "
            ]
          },
          "metadata": {},
          "execution_count": 7
        }
      ]
    },
    {
      "cell_type": "code",
      "source": [
        "import nltk\n",
        "import re\n",
        "import string\n",
        "\n",
        "def clean_text(text):\n",
        "    '''Make text lowercase, remove text in square brackets,remove links,remove punctuation\n",
        "    and remove words containing numbers.'''\n",
        "    text = text.lower()\n",
        "    text = re.sub('\\[.*?\\]', '', text)\n",
        "    text = re.sub('https?://\\S+|www\\.\\S+', '', text)\n",
        "    text = re.sub('<.*?>+', '', text)\n",
        "    text = re.sub('[%s]' % re.escape(string.punctuation), '', text)\n",
        "    text = re.sub('\\n', '', text)\n",
        "    text = re.sub('\\w*\\d\\w*', '', text)\n",
        "    return text"
      ],
      "metadata": {
        "id": "xWZS0aWekead"
      },
      "execution_count": 8,
      "outputs": []
    },
    {
      "cell_type": "code",
      "source": [
        "data['tweet'] = data['tweet'].apply(lambda x: clean_text(x))"
      ],
      "metadata": {
        "id": "rHH4SLoPmpG7"
      },
      "execution_count": 9,
      "outputs": []
    },
    {
      "cell_type": "code",
      "source": [
        "print(len(data))"
      ],
      "metadata": {
        "colab": {
          "base_uri": "https://localhost:8080/"
        },
        "id": "Xa7mLq_Ypgr3",
        "outputId": "3a75291e-2314-4410-9ab7-783803f73008"
      },
      "execution_count": 10,
      "outputs": [
        {
          "output_type": "stream",
          "name": "stdout",
          "text": [
            "2140\n"
          ]
        }
      ]
    },
    {
      "cell_type": "code",
      "source": [
        "tweet_list =data['tweet'][:10].tolist()"
      ],
      "metadata": {
        "id": "RFkSrLhspkbM"
      },
      "execution_count": 11,
      "outputs": []
    },
    {
      "cell_type": "code",
      "source": [
        "i =0\n",
        "tweet_str=''\n",
        "for tweet in tweet_list:\n",
        "   tweet_str = tweet_str + str(i) +'.'+'\"'+tweet+'\"'+'\\n'\n",
        "   i=i+1\n",
        "   if i ==10:\n",
        "     break"
      ],
      "metadata": {
        "id": "JstKAzjopytn"
      },
      "execution_count": 13,
      "outputs": []
    },
    {
      "cell_type": "code",
      "source": [
        "print(tweet_str)"
      ],
      "metadata": {
        "colab": {
          "base_uri": "https://localhost:8080/"
        },
        "id": "NWOUTiAgp4b7",
        "outputId": "174a2b44-2d00-4978-c7d5-b6dc892f2fc6"
      },
      "execution_count": 14,
      "outputs": [
        {
          "output_type": "stream",
          "name": "stdout",
          "text": [
            "0.\"chinese converting to islam after realising that no muslim was affected by coronavirus  in the country\"\n",
            "1.\" out of  people from the diamond princess cruise ship who had intially tested negative in tests in japan were later confirmed to be positive in the united states\"\n",
            "2.\" is caused by a bacterium not virus and can be treated with aspirin\"\n",
            "3.\"mike pence in rnc speech praises donald trump’s  “seamless” partnership with governors and leaves out the presidents state feuds   \"\n",
            "4.\" skys edconwaysky explains the latest  data and government announcement get more on the coronavirus data here👇  \"\n",
            "5.\"no one can leave managed isolation for any reason without returning a negative test if they refuse a test they can then be held for a period of up to  days ⁣ ⁣ on june the  exemptions on compassionate grounds have been suspended ⁣ ⁣\"\n",
            "6.\"indiafightscorona india has one of the lowest  mortality globally with less than  case fatality rate as a result of supervised home isolation amp effective clinical treatment many statesuts have cfr lower than the national average \"\n",
            "7.\"rt who  transmission occurs primarily through direct indirect or close contact with infected people through their saliva and res…\"\n",
            "8.\"news and media outlet abp majha on the basis of an internal memo of south central railway reported that a special train has been announced to take the stranded migrant workers home\"\n",
            "9.\"church services cant resume until were all vaccinated says bill gates�\"\n",
            "\n"
          ]
        }
      ]
    },
    {
      "cell_type": "code",
      "source": [
        "prompt=\"Classify the tweets whether they are fake or real:\\n\" + tweet_str + \"\\n Tweet detection is done:\"\n",
        "print(prompt)"
      ],
      "metadata": {
        "colab": {
          "base_uri": "https://localhost:8080/"
        },
        "id": "T7d7TAk7qFpG",
        "outputId": "03828e6f-cf56-4a55-a357-3af19005e5d4"
      },
      "execution_count": 15,
      "outputs": [
        {
          "output_type": "stream",
          "name": "stdout",
          "text": [
            "Classify the tweets whether they are fake or real:\n",
            "0.\"chinese converting to islam after realising that no muslim was affected by coronavirus  in the country\"\n",
            "1.\" out of  people from the diamond princess cruise ship who had intially tested negative in tests in japan were later confirmed to be positive in the united states\"\n",
            "2.\" is caused by a bacterium not virus and can be treated with aspirin\"\n",
            "3.\"mike pence in rnc speech praises donald trump’s  “seamless” partnership with governors and leaves out the presidents state feuds   \"\n",
            "4.\" skys edconwaysky explains the latest  data and government announcement get more on the coronavirus data here👇  \"\n",
            "5.\"no one can leave managed isolation for any reason without returning a negative test if they refuse a test they can then be held for a period of up to  days ⁣ ⁣ on june the  exemptions on compassionate grounds have been suspended ⁣ ⁣\"\n",
            "6.\"indiafightscorona india has one of the lowest  mortality globally with less than  case fatality rate as a result of supervised home isolation amp effective clinical treatment many statesuts have cfr lower than the national average \"\n",
            "7.\"rt who  transmission occurs primarily through direct indirect or close contact with infected people through their saliva and res…\"\n",
            "8.\"news and media outlet abp majha on the basis of an internal memo of south central railway reported that a special train has been announced to take the stranded migrant workers home\"\n",
            "9.\"church services cant resume until were all vaccinated says bill gates�\"\n",
            "\n",
            " Tweet detection is done:\n"
          ]
        }
      ]
    },
    {
      "cell_type": "code",
      "source": [
        "response = openai.Completion.create(\n",
        "  model=\"text-davinci-003\",\n",
        "  prompt= prompt,\n",
        "  temperature=0,\n",
        "  max_tokens=120,\n",
        "  top_p=1.0,\n",
        "  frequency_penalty=0.0,\n",
        "  presence_penalty=0.0\n",
        ")"
      ],
      "metadata": {
        "id": "yMauXiXBqOwF"
      },
      "execution_count": 16,
      "outputs": []
    },
    {
      "cell_type": "code",
      "source": [
        "a=(response[\"choices\"][0][\"text\"]).split('\\n')"
      ],
      "metadata": {
        "id": "37JYCaGfqZVL"
      },
      "execution_count": 18,
      "outputs": []
    },
    {
      "cell_type": "code",
      "source": [
        "print(a)"
      ],
      "metadata": {
        "colab": {
          "base_uri": "https://localhost:8080/"
        },
        "id": "UrYbHgYzsXh9",
        "outputId": "0913a86f-92df-4d68-9785-136235d9240b"
      },
      "execution_count": 19,
      "outputs": [
        {
          "output_type": "stream",
          "name": "stdout",
          "text": [
            "['', '0. Fake', '1. Real', '2. Fake', '3. Real', '4. Real', '5. Real', '6. Real', '7. Fake', '8. Real', '9. Fake']\n"
          ]
        }
      ]
    },
    {
      "cell_type": "code",
      "source": [
        "print(data['label'][0:10])"
      ],
      "metadata": {
        "colab": {
          "base_uri": "https://localhost:8080/"
        },
        "id": "rWN-eLL9saEy",
        "outputId": "2253d0aa-bd09-43f0-c845-c070d651b4af"
      },
      "execution_count": 20,
      "outputs": [
        {
          "output_type": "stream",
          "name": "stdout",
          "text": [
            "0    fake\n",
            "1    fake\n",
            "2    fake\n",
            "3    fake\n",
            "4    real\n",
            "5    real\n",
            "6    real\n",
            "7    real\n",
            "8    fake\n",
            "9    fake\n",
            "Name: label, dtype: object\n"
          ]
        }
      ]
    }
  ]
}